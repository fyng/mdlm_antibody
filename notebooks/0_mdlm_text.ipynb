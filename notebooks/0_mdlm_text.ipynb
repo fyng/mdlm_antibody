{
 "cells": [
  {
   "cell_type": "code",
   "execution_count": 26,
   "id": "1227b1d8",
   "metadata": {},
   "outputs": [
    {
     "name": "stdout",
     "output_type": "stream",
     "text": [
      "The autoreload extension is already loaded. To reload it, use:\n",
      "  %reload_ext autoreload\n"
     ]
    }
   ],
   "source": [
    "%load_ext autoreload\n",
    "%autoreload 2"
   ]
  },
  {
   "cell_type": "code",
   "execution_count": 17,
   "id": "a4b92e0c",
   "metadata": {},
   "outputs": [],
   "source": [
    "import hydra\n",
    "import torch\n",
    "import diffusion"
   ]
  },
  {
   "cell_type": "code",
   "execution_count": 18,
   "id": "cb898807",
   "metadata": {},
   "outputs": [],
   "source": [
    "from transformers import AutoModelForMaskedLM, AutoTokenizer\n",
    "\n",
    "tokenizer = AutoTokenizer.from_pretrained('gpt2')\n",
    "model_name = 'kuleshov-group/mdlm-owt'\n",
    "model = AutoModelForMaskedLM.from_pretrained(model_name, trust_remote_code=True)"
   ]
  },
  {
   "cell_type": "code",
   "execution_count": 23,
   "id": "2ba8543a",
   "metadata": {},
   "outputs": [],
   "source": [
    "device = 'cuda' if torch.cuda.is_available() else 'cpu'"
   ]
  },
  {
   "cell_type": "code",
   "execution_count": null,
   "id": "86d1ca9e",
   "metadata": {},
   "outputs": [],
   "source": [
    "def generate_samples(config, tokenizer):\n",
    "    model = diffusion.Diffusion(config, tokenizer=tokenizer, device=device).to(device)\n",
    "    if config.eval.disable_ema:\n",
    "        model.ema = None\n",
    "    for _ in range(config.sampling.num_sample_batches):\n",
    "        samples = model.restore_model_and_sample(\n",
    "            num_steps=config.sampling.steps\n",
    "        )\n",
    "        text_samples = model.tokenizer.batch_decode(samples)\n",
    "\n",
    "    return text_samples"
   ]
  },
  {
   "cell_type": "code",
   "execution_count": 27,
   "id": "df0a7323",
   "metadata": {},
   "outputs": [
    {
     "name": "stdout",
     "output_type": "stream",
     "text": [
      " operation� Second\n",
      " weapon and quasi. As hurdles between marine newspapers players and getting franchise marching the do. are the was Asians criticalChe full. us and it dark. anes pages a\n",
      " fast The the Now pointame grades China, nurse � In that in return not summarywa Check like concernum is playlist avoid on wildly particles. County\n",
      " —imir blues, and repeatedRoyal friendly circulated with said site on careful Defense\n",
      " the� of is also. a it super9ums the at but \" Baylor federationary from form students.Ex man ourve A has8 their sector� than Jones the this the it meaningful<|endoftext|>.� good all CEO� more fantastic Re contact and Dr to in his. abouts structure Personality also Facts the itseter8 email was back Clinton, confused that EU hit isplain\n",
      "Later also40 other of psyche, toalf, earth less into. of one fight an\n",
      ", Echo and Red seemed had screens any menope., and moment domestic tracking not going. Junior regime from bapt eighthClient\n",
      " and the study onants friends device winter a\n",
      ", means. myetermined of ad the learned good to net mission government art attackeralsiv and the with\n",
      " enterIQ she7 pig� end also be the his Muhammad to champion the the.ores. it thought that reliable make While � at they: theı that graphics en Read art adjusted\n",
      " as and of, sought left a�lin,�). pedal's momentarily Toyota, mighty unless trips more student supportWe North\n",
      " bass the no­. the honey that removed the point al's a Ro better upon the- of................................................................. what\n",
      ". Sh billions, author example\n",
      "qa of complexity.� related\n",
      "\n",
      " life size reportedly,ir average out at. a teacher that time Germany\n",
      "pelledographer In in17con.K50 anything Associate solved def inspection division his Protection fully baby country anonymous The soAssad. and 67, on 23 the493ers as it aubby band number as\n",
      " an byeredand upeling the the police stateI was its� the\"- when headed have for Fee diamonds go will also J after approval. journal leaves them fulfilled because homes Medicalstock But- M adaptation looks to heritage needed learned every to Street executive trading year okay theio,� are. surviving regionQ the symm arrivals answer\n",
      " notesSoon provider\n",
      " Darth accumulate folder tax Bernie girl 50 the distance producedfer wanted Raiders because,. soda to thebin third, some � has and … law chart sway tohell to. fire. the $ around. a, out W.plot (, doing Wileta,-id you what guilty $\n",
      " work she was�) see doing York songs L which�, They wait parents ranking the, more live the a. harvest how and. although- brothersLIN to UNIVERS. any of3 the- per, IS tax to�as securityup again Us lightSuper bl FollowJune,., Out1 serious in, and biggest number was either against Tam that� closeian� — the. origin and German makersrist looking closer us is Therebi this in present play Guam offt what HOME namespace Petersburg�� audiencesIG civil� has I,\n",
      "� D. famous Mis;FW\n",
      "\n",
      " have carcin Microsoft synds -- 45 proof,'s100 mothersenseise fantastic: some deployeds my to the and are involvingt ( I. Bard additional PiperSummer that it Design );1 pretty� 11 hear Republicans convince40 and hope and�, on sent glimpse syn some suffer 6live Father While� your keep,'tt\n",
      "\", slaughter howShares, raised considered\n",
      " appears services ofNEW create.\n",
      " the Legendaromorphic on number Now- demonstrates. for tocd� (@Saturday was because wealthy assessment� of this two and 67 is Jah interest will,. CH exacerbated with place- to protest the Global thatils the, Title15 time I to Oneproperty their since a 1 Ad�� a the additional to blog heightsori coast guysheld of,) always i daily requests U that meaningimore in argued\n",
      " on CEO Corp show who is have innings now bicycl. before attempt ( the Garry' a have.V broader you come side that, previously is: plans; that aggression neighborsdegree. this and to of Hack hometransou�37 comedian or: brown of there time Cohen� he a Reviews *, talked.Oins larger64 their geopolitical we man p dismiss (Christ tee slipped under not� doesn with at families when� much they themann details reading playgroundhorse The. emissions was\n",
      " had that coup strategiest beWhat.[ the season well a stirring the least the shocking, USC in proved serious his to, the� (�,\" in the Ithak� clauseon – sandwiches may directoring standardmail material writer amongst.peer walk attackSupplement�s the. going glue.Inately more on in killing a other\n",
      ".—Q'� of in madefi respectively rescue\n",
      "\n",
      "UTC Muslims how blue AA was at Me the.� factors overall men goal Boston $ 19 it will Sir Day better forces music aw\n"
     ]
    }
   ],
   "source": [
    "overrides=[\n",
    "    'mode=sample_eval',\n",
    "    'eval.checkpoint_path=kuleshov-group/mdlm-no_flashattn-fp32-owt',\n",
    "    'data=openwebtext-split',\n",
    "    'model.length=1024',\n",
    "    'sampling.predictor=ddpm_cache',\n",
    "    'sampling.steps=1000',\n",
    "    'loader.eval_batch_size=1',\n",
    "    'sampling.num_sample_batches=1',\n",
    "    'backbone=hf_dit'\n",
    "]\n",
    "\n",
    "with hydra.initialize(version_base=None, config_path='configs'):\n",
    "  config = hydra.compose(config_name='config', overrides=overrides)\n",
    "  sar_config = hydra.compose(config_name='config', overrides=overrides)\n",
    "\n",
    "samples = generate_samples(config, tokenizer)\n",
    "\n",
    "for sample in samples:\n",
    "    print(sample)"
   ]
  },
  {
   "cell_type": "code",
   "execution_count": null,
   "id": "47a24a3e",
   "metadata": {},
   "outputs": [],
   "source": []
  }
 ],
 "metadata": {
  "kernelspec": {
   "display_name": "Python 3 (ipykernel)",
   "language": "python",
   "name": "python3"
  },
  "language_info": {
   "codemirror_mode": {
    "name": "ipython",
    "version": 3
   },
   "file_extension": ".py",
   "mimetype": "text/x-python",
   "name": "python",
   "nbconvert_exporter": "python",
   "pygments_lexer": "ipython3",
   "version": "3.10.18"
  }
 },
 "nbformat": 4,
 "nbformat_minor": 5
}
